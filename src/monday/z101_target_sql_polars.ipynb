{
 "cells": [
  {
   "cell_type": "code",
   "execution_count": 109,
   "metadata": {},
   "outputs": [],
   "source": [
    "import polars as pl\n",
    "df = pl.read_csv('../datasets/competencia_01_crudo.csv',ignore_errors=True)\n",
    "df = df.join(df['numero_de_cliente'].value_counts(),on='numero_de_cliente')\n",
    "df = df.with_columns(\n",
    "    pl.when(df['counts'] == 1).then('BAJA+1')\\\n",
    "      .when(df['counts'] == 2).then('BAJA+2')\\\n",
    "      .when(df['counts'] == 3).then('CONTINUA')\\\n",
    ").rename({'literal':'clase_ternaria'}).drop(columns='counts')"
   ]
  },
  {
   "cell_type": "code",
   "execution_count": 110,
   "metadata": {},
   "outputs": [
    {
     "data": {
      "text/html": [
       "<div><style>\n",
       ".dataframe > thead > tr > th,\n",
       ".dataframe > tbody > tr > td {\n",
       "  text-align: right;\n",
       "}\n",
       "</style>\n",
       "<small>shape: (3, 2)</small><table border=\"1\" class=\"dataframe\"><thead><tr><th>clase_ternaria</th><th>counts</th></tr><tr><td>str</td><td>u32</td></tr></thead><tbody><tr><td>&quot;CONTINUA&quot;</td><td>161311</td></tr><tr><td>&quot;BAJA+2&quot;</td><td>964</td></tr><tr><td>&quot;BAJA+1&quot;</td><td>1049</td></tr></tbody></table></div>"
      ],
      "text/plain": [
       "shape: (3, 2)\n",
       "┌────────────────┬────────┐\n",
       "│ clase_ternaria ┆ counts │\n",
       "│ ---            ┆ ---    │\n",
       "│ str            ┆ u32    │\n",
       "╞════════════════╪════════╡\n",
       "│ CONTINUA       ┆ 161311 │\n",
       "│ BAJA+2         ┆ 964    │\n",
       "│ BAJA+1         ┆ 1049   │\n",
       "└────────────────┴────────┘"
      ]
     },
     "execution_count": 110,
     "metadata": {},
     "output_type": "execute_result"
    }
   ],
   "source": [
    "df.filter(pl.col('foto_mes')==202103)['clase_ternaria'].value_counts()"
   ]
  },
  {
   "cell_type": "markdown",
   "metadata": {},
   "source": [
    "Identificamos un caso raro"
   ]
  },
  {
   "cell_type": "code",
   "execution_count": 111,
   "metadata": {},
   "outputs": [
    {
     "data": {
      "text/html": [
       "<div><style>\n",
       ".dataframe > thead > tr > th,\n",
       ".dataframe > tbody > tr > td {\n",
       "  text-align: right;\n",
       "}\n",
       "</style>\n",
       "<small>shape: (1, 4)</small><table border=\"1\" class=\"dataframe\"><thead><tr><th>numero_de_cliente</th><th>202103</th><th>202104</th><th>202105</th></tr><tr><td>i64</td><td>u32</td><td>u32</td><td>u32</td></tr></thead><tbody><tr><td>95380426</td><td>1</td><td>0</td><td>1</td></tr></tbody></table></div>"
      ],
      "text/plain": [
       "shape: (1, 4)\n",
       "┌───────────────────┬────────┬────────┬────────┐\n",
       "│ numero_de_cliente ┆ 202103 ┆ 202104 ┆ 202105 │\n",
       "│ ---               ┆ ---    ┆ ---    ┆ ---    │\n",
       "│ i64               ┆ u32    ┆ u32    ┆ u32    │\n",
       "╞═══════════════════╪════════╪════════╪════════╡\n",
       "│ 95380426          ┆ 1      ┆ 0      ┆ 1      │\n",
       "└───────────────────┴────────┴────────┴────────┘"
      ]
     },
     "execution_count": 111,
     "metadata": {},
     "output_type": "execute_result"
    }
   ],
   "source": [
    "df.pivot(columns='foto_mes',index='numero_de_cliente',\n",
    "         values='numero_de_cliente',aggregate_function='count').fill_null(0)\\\n",
    "            .filter((pl.col('202103')==1)&(pl.col('202105')==1)&(pl.col('202104')==0))"
   ]
  },
  {
   "cell_type": "code",
   "execution_count": 112,
   "metadata": {},
   "outputs": [],
   "source": [
    "mask = df['numero_de_cliente'] == 95380426\n",
    "df = df.with_columns(pl.when(mask).then('continua').otherwise(df['clase_ternaria']).alias('clase_ternaria'))\n"
   ]
  },
  {
   "cell_type": "code",
   "execution_count": 113,
   "metadata": {},
   "outputs": [
    {
     "data": {
      "text/html": [
       "<div><style>\n",
       ".dataframe > thead > tr > th,\n",
       ".dataframe > tbody > tr > td {\n",
       "  text-align: right;\n",
       "}\n",
       "</style>\n",
       "<small>shape: (4, 2)</small><table border=\"1\" class=\"dataframe\"><thead><tr><th>clase_ternaria</th><th>counts</th></tr><tr><td>str</td><td>u32</td></tr></thead><tbody><tr><td>&quot;CONTINUA&quot;</td><td>161311</td></tr><tr><td>&quot;continua&quot;</td><td>1</td></tr><tr><td>&quot;BAJA+2&quot;</td><td>963</td></tr><tr><td>&quot;BAJA+1&quot;</td><td>1049</td></tr></tbody></table></div>"
      ],
      "text/plain": [
       "shape: (4, 2)\n",
       "┌────────────────┬────────┐\n",
       "│ clase_ternaria ┆ counts │\n",
       "│ ---            ┆ ---    │\n",
       "│ str            ┆ u32    │\n",
       "╞════════════════╪════════╡\n",
       "│ CONTINUA       ┆ 161311 │\n",
       "│ continua       ┆ 1      │\n",
       "│ BAJA+2         ┆ 963    │\n",
       "│ BAJA+1         ┆ 1049   │\n",
       "└────────────────┴────────┘"
      ]
     },
     "execution_count": 113,
     "metadata": {},
     "output_type": "execute_result"
    }
   ],
   "source": [
    "df.filter(pl.col('foto_mes')==202103)['clase_ternaria'].value_counts()"
   ]
  },
  {
   "cell_type": "code",
   "execution_count": 114,
   "metadata": {},
   "outputs": [],
   "source": [
    "import pathlib\n",
    "path: pathlib.Path = \"../datasets/competencia_01.csv\""
   ]
  },
  {
   "cell_type": "code",
   "execution_count": 115,
   "metadata": {},
   "outputs": [],
   "source": [
    "df.write_csv(path,separator=',')"
   ]
  }
 ],
 "metadata": {
  "kernelspec": {
   "display_name": "Python 3",
   "language": "python",
   "name": "python3"
  },
  "language_info": {
   "codemirror_mode": {
    "name": "ipython",
    "version": 3
   },
   "file_extension": ".py",
   "mimetype": "text/x-python",
   "name": "python",
   "nbconvert_exporter": "python",
   "pygments_lexer": "ipython3",
   "version": "3.11.4"
  },
  "orig_nbformat": 4
 },
 "nbformat": 4,
 "nbformat_minor": 2
}
